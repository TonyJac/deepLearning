{
 "cells": [
  {
   "cell_type": "code",
   "execution_count": 7,
   "metadata": {},
   "outputs": [
    {
     "name": "stdout",
     "output_type": "stream",
     "text": [
      "Train on 22451 samples, validate on 2495 samples\n",
      "Epoch 1/10\n",
      "22451/22451 [==============================] - 44s 2ms/sample - loss: 0.6306 - acc: 0.6449 - val_loss: 0.5660 - val_acc: 0.7126\n",
      "Epoch 2/10\n",
      "22451/22451 [==============================] - 47s 2ms/sample - loss: 0.5337 - acc: 0.7350 - val_loss: 0.5215 - val_acc: 0.7511\n",
      "Epoch 3/10\n",
      "22451/22451 [==============================] - 43s 2ms/sample - loss: 0.4903 - acc: 0.7651 - val_loss: 0.4980 - val_acc: 0.7647\n",
      "Epoch 4/10\n",
      "22451/22451 [==============================] - 43s 2ms/sample - loss: 0.4591 - acc: 0.7817 - val_loss: 0.4751 - val_acc: 0.7912\n",
      "Epoch 5/10\n",
      "22451/22451 [==============================] - 42s 2ms/sample - loss: 0.4381 - acc: 0.7958 - val_loss: 0.5019 - val_acc: 0.7615\n",
      "Epoch 6/10\n",
      "22451/22451 [==============================] - 42s 2ms/sample - loss: 0.4183 - acc: 0.8087 - val_loss: 0.4939 - val_acc: 0.7655\n",
      "Epoch 7/10\n",
      "22451/22451 [==============================] - 42s 2ms/sample - loss: 0.3979 - acc: 0.8195 - val_loss: 0.5068 - val_acc: 0.7768\n",
      "Epoch 8/10\n",
      "22451/22451 [==============================] - 42s 2ms/sample - loss: 0.3822 - acc: 0.8288 - val_loss: 0.4983 - val_acc: 0.7772\n",
      "Epoch 9/10\n",
      "22451/22451 [==============================] - 42s 2ms/sample - loss: 0.3719 - acc: 0.8348 - val_loss: 0.4844 - val_acc: 0.7876\n",
      "Epoch 10/10\n",
      "22451/22451 [==============================] - 42s 2ms/sample - loss: 0.3548 - acc: 0.8427 - val_loss: 0.4846 - val_acc: 0.7800\n"
     ]
    },
    {
     "data": {
      "text/plain": [
       "<tensorflow.python.keras.callbacks.History at 0x7f995c2991d0>"
      ]
     },
     "execution_count": 7,
     "metadata": {},
     "output_type": "execute_result"
    }
   ],
   "source": [
    "import tensorflow as tf\n",
    "from tensorflow.keras.models import Sequential\n",
    "from tensorflow.keras.layers import Dense, Dropout, Activation, Flatten, Conv2D, MaxPooling2D\n",
    "import pickle\n",
    "\n",
    "X = pickle.load(open(\"X.pickle\",\"rb\"))\n",
    "y = pickle.load(open(\"y.pickle\",\"rb\"))\n",
    "\n",
    "X = X/255.0\n",
    "\n",
    "model = Sequential()\n",
    "model.add(Conv2D(64, (3,3), input_shape = X.shape[1:]))\n",
    "model.add(Activation('relu'))\n",
    "model.add(MaxPooling2D(pool_size = (2,2)))\n",
    "\n",
    "model.add(Conv2D(64, (3,3)))\n",
    "model.add(Activation('relu'))\n",
    "model.add(MaxPooling2D(pool_size = (2,2)))\n",
    "\n",
    "model.add(Flatten())\n",
    "model.add(Dense(64))\n",
    "\n",
    "model.add(Dense(1))\n",
    "model.add(Activation('sigmoid'))\n",
    "\n",
    "model.compile(loss = 'binary_crossentropy',\n",
    "             optimizer = \"adam\",\n",
    "             metrics=[\"accuracy\"])\n",
    "\n",
    "model.fit(X,y,batch_size=32,epochs = 10, validation_split=0.1)"
   ]
  },
  {
   "cell_type": "code",
   "execution_count": null,
   "metadata": {
    "collapsed": true
   },
   "outputs": [],
   "source": []
  }
 ],
 "metadata": {
  "kernelspec": {
   "display_name": "Python 3",
   "language": "python",
   "name": "python3"
  },
  "language_info": {
   "codemirror_mode": {
    "name": "ipython",
    "version": 3
   },
   "file_extension": ".py",
   "mimetype": "text/x-python",
   "name": "python",
   "nbconvert_exporter": "python",
   "pygments_lexer": "ipython3",
   "version": "3.6.3"
  }
 },
 "nbformat": 4,
 "nbformat_minor": 2
}
