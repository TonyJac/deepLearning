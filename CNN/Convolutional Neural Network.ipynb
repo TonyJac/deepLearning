{
 "cells": [
  {
   "cell_type": "code",
   "execution_count": 2,
   "metadata": {},
   "outputs": [
    {
     "name": "stdout",
     "output_type": "stream",
     "text": [
      "Train on 22451 samples, validate on 2495 samples\n",
      "Epoch 1/10\n",
      "22451/22451 [==============================] - 46s 2ms/sample - loss: 0.6164 - acc: 0.6518 - val_loss: 0.5540 - val_acc: 0.7206\n",
      "Epoch 2/10\n",
      "22451/22451 [==============================] - 41s 2ms/sample - loss: 0.5118 - acc: 0.7506 - val_loss: 0.5105 - val_acc: 0.7599\n",
      "Epoch 3/10\n",
      "22451/22451 [==============================] - 40s 2ms/sample - loss: 0.4647 - acc: 0.7804 - val_loss: 0.4789 - val_acc: 0.7747\n",
      "Epoch 4/10\n",
      "22451/22451 [==============================] - 44s 2ms/sample - loss: 0.4297 - acc: 0.7989 - val_loss: 0.4708 - val_acc: 0.7719\n",
      "Epoch 5/10\n",
      "22451/22451 [==============================] - 45s 2ms/sample - loss: 0.3909 - acc: 0.8235 - val_loss: 0.4512 - val_acc: 0.7948\n",
      "Epoch 6/10\n",
      "22451/22451 [==============================] - 42s 2ms/sample - loss: 0.3552 - acc: 0.8407 - val_loss: 0.4531 - val_acc: 0.7988\n",
      "Epoch 7/10\n",
      "22451/22451 [==============================] - 42s 2ms/sample - loss: 0.3189 - acc: 0.8600 - val_loss: 0.4543 - val_acc: 0.8008\n",
      "Epoch 8/10\n",
      "22451/22451 [==============================] - 40s 2ms/sample - loss: 0.2834 - acc: 0.8796 - val_loss: 0.4679 - val_acc: 0.8032\n",
      "Epoch 9/10\n",
      "22451/22451 [==============================] - 42s 2ms/sample - loss: 0.2422 - acc: 0.8998 - val_loss: 0.5340 - val_acc: 0.7928\n",
      "Epoch 10/10\n",
      "22451/22451 [==============================] - 45s 2ms/sample - loss: 0.1996 - acc: 0.9188 - val_loss: 0.5464 - val_acc: 0.7976\n"
     ]
    },
    {
     "data": {
      "text/plain": [
       "<tensorflow.python.keras.callbacks.History at 0x7f1380191a20>"
      ]
     },
     "execution_count": 2,
     "metadata": {},
     "output_type": "execute_result"
    }
   ],
   "source": [
    "import tensorflow as tf\n",
    "from tensorflow.keras.models import Sequential\n",
    "from tensorflow.keras.layers import Dense, Dropout, Activation, Flatten, Conv2D, MaxPooling2D\n",
    "from tensorflow.keras.callbacks import TensorBoard\n",
    "import pickle\n",
    "import time\n",
    "\n",
    "gpu_options = tf.GPUOptions(per_process_gpu_memory_fraction = 0.75)\n",
    "sess = tf.Session (config = tf.ConfigProto(gpu_options = gpu_options))\n",
    "\n",
    "Name = \"Cats-v-Dogs-64x2-{}\".format(int(time.time()))\n",
    "tensorboard = TensorBoard(log_dir='logs/{}'.format(Name))\n",
    "\n",
    "X = pickle.load(open(\"X.pickle\",\"rb\"))\n",
    "y = pickle.load(open(\"y.pickle\",\"rb\"))\n",
    "\n",
    "X = X/255.0\n",
    "\n",
    "model = Sequential()\n",
    "model.add(Conv2D(64, (3,3), input_shape = X.shape[1:]))\n",
    "model.add(Activation('relu'))\n",
    "model.add(MaxPooling2D(pool_size = (2,2)))\n",
    "\n",
    "model.add(Conv2D(64, (3,3)))\n",
    "model.add(Activation('relu'))\n",
    "model.add(MaxPooling2D(pool_size = (2,2)))\n",
    "\n",
    "model.add(Flatten())\n",
    "model.add(Dense(64))\n",
    "model.add(Activation('relu'))\n",
    "\n",
    "model.add(Dense(1))\n",
    "model.add(Activation('sigmoid'))\n",
    "\n",
    "model.compile(loss = 'binary_crossentropy',\n",
    "             optimizer = \"adam\",\n",
    "             metrics=[\"accuracy\"])\n",
    "\n",
    "model.fit(X,y,batch_size=32,epochs = 10, validation_split=0.1, callbacks = [tensorboard])"
   ]
  },
  {
   "cell_type": "code",
   "execution_count": null,
   "metadata": {
    "collapsed": true
   },
   "outputs": [],
   "source": []
  }
 ],
 "metadata": {
  "kernelspec": {
   "display_name": "Python 3",
   "language": "python",
   "name": "python3"
  },
  "language_info": {
   "codemirror_mode": {
    "name": "ipython",
    "version": 3
   },
   "file_extension": ".py",
   "mimetype": "text/x-python",
   "name": "python",
   "nbconvert_exporter": "python",
   "pygments_lexer": "ipython3",
   "version": "3.6.3"
  }
 },
 "nbformat": 4,
 "nbformat_minor": 2
}
